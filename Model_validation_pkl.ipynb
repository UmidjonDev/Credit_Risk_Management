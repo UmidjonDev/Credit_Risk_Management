{
  "nbformat": 4,
  "nbformat_minor": 0,
  "metadata": {
    "colab": {
      "provenance": []
    },
    "kernelspec": {
      "name": "python3",
      "display_name": "Python 3"
    },
    "language_info": {
      "name": "python"
    }
  },
  "cells": [
    {
      "cell_type": "markdown",
      "source": [
        "Jupyter notebook to check the models performance on the real data outside."
      ],
      "metadata": {
        "id": "Ji0N5b-kbdcu"
      }
    },
    {
      "cell_type": "code",
      "execution_count": 1,
      "metadata": {
        "colab": {
          "base_uri": "https://localhost:8080/"
        },
        "id": "s-Lzkj7wbcJS",
        "outputId": "631c9d30-e1f8-45e8-e518-c2d4993c3b25"
      },
      "outputs": [
        {
          "output_type": "stream",
          "name": "stdout",
          "text": [
            "Mounted at /content/drive\n"
          ]
        }
      ],
      "source": [
        "#Adding google drive to colab environment.\n",
        "from google.colab import drive\n",
        "drive.mount(\"/content/drive\")"
      ]
    },
    {
      "cell_type": "code",
      "source": [
        "!pip install catboost"
      ],
      "metadata": {
        "colab": {
          "base_uri": "https://localhost:8080/"
        },
        "id": "aLdYh2t1c0vy",
        "outputId": "96386d9a-37f5-4177-d034-d7eb3419ffb9"
      },
      "execution_count": 6,
      "outputs": [
        {
          "output_type": "stream",
          "name": "stdout",
          "text": [
            "Collecting catboost\n",
            "  Downloading catboost-1.2.5-cp310-cp310-manylinux2014_x86_64.whl (98.2 MB)\n",
            "\u001b[2K     \u001b[90m━━━━━━━━━━━━━━━━━━━━━━━━━━━━━━━━━━━━━━━━\u001b[0m \u001b[32m98.2/98.2 MB\u001b[0m \u001b[31m8.7 MB/s\u001b[0m eta \u001b[36m0:00:00\u001b[0m\n",
            "\u001b[?25hRequirement already satisfied: graphviz in /usr/local/lib/python3.10/dist-packages (from catboost) (0.20.3)\n",
            "Requirement already satisfied: matplotlib in /usr/local/lib/python3.10/dist-packages (from catboost) (3.7.1)\n",
            "Requirement already satisfied: numpy>=1.16.0 in /usr/local/lib/python3.10/dist-packages (from catboost) (1.25.2)\n",
            "Requirement already satisfied: pandas>=0.24 in /usr/local/lib/python3.10/dist-packages (from catboost) (2.0.3)\n",
            "Requirement already satisfied: scipy in /usr/local/lib/python3.10/dist-packages (from catboost) (1.11.4)\n",
            "Requirement already satisfied: plotly in /usr/local/lib/python3.10/dist-packages (from catboost) (5.15.0)\n",
            "Requirement already satisfied: six in /usr/local/lib/python3.10/dist-packages (from catboost) (1.16.0)\n",
            "Requirement already satisfied: python-dateutil>=2.8.2 in /usr/local/lib/python3.10/dist-packages (from pandas>=0.24->catboost) (2.8.2)\n",
            "Requirement already satisfied: pytz>=2020.1 in /usr/local/lib/python3.10/dist-packages (from pandas>=0.24->catboost) (2023.4)\n",
            "Requirement already satisfied: tzdata>=2022.1 in /usr/local/lib/python3.10/dist-packages (from pandas>=0.24->catboost) (2024.1)\n",
            "Requirement already satisfied: contourpy>=1.0.1 in /usr/local/lib/python3.10/dist-packages (from matplotlib->catboost) (1.2.1)\n",
            "Requirement already satisfied: cycler>=0.10 in /usr/local/lib/python3.10/dist-packages (from matplotlib->catboost) (0.12.1)\n",
            "Requirement already satisfied: fonttools>=4.22.0 in /usr/local/lib/python3.10/dist-packages (from matplotlib->catboost) (4.53.0)\n",
            "Requirement already satisfied: kiwisolver>=1.0.1 in /usr/local/lib/python3.10/dist-packages (from matplotlib->catboost) (1.4.5)\n",
            "Requirement already satisfied: packaging>=20.0 in /usr/local/lib/python3.10/dist-packages (from matplotlib->catboost) (24.1)\n",
            "Requirement already satisfied: pillow>=6.2.0 in /usr/local/lib/python3.10/dist-packages (from matplotlib->catboost) (9.4.0)\n",
            "Requirement already satisfied: pyparsing>=2.3.1 in /usr/local/lib/python3.10/dist-packages (from matplotlib->catboost) (3.1.2)\n",
            "Requirement already satisfied: tenacity>=6.2.0 in /usr/local/lib/python3.10/dist-packages (from plotly->catboost) (8.4.2)\n",
            "Installing collected packages: catboost\n",
            "Successfully installed catboost-1.2.5\n"
          ]
        }
      ]
    },
    {
      "cell_type": "code",
      "source": [
        "!pip install dill"
      ],
      "metadata": {
        "colab": {
          "base_uri": "https://localhost:8080/"
        },
        "id": "oXGDwK7gb9F7",
        "outputId": "79d265de-7030-446c-bad3-be1e86fa18ea"
      },
      "execution_count": 2,
      "outputs": [
        {
          "output_type": "stream",
          "name": "stdout",
          "text": [
            "Collecting dill\n",
            "  Downloading dill-0.3.8-py3-none-any.whl (116 kB)\n",
            "\u001b[2K     \u001b[90m━━━━━━━━━━━━━━━━━━━━━━━━━━━━━━━━━━━━━━━━\u001b[0m \u001b[32m116.3/116.3 kB\u001b[0m \u001b[31m1.4 MB/s\u001b[0m eta \u001b[36m0:00:00\u001b[0m\n",
            "\u001b[?25hInstalling collected packages: dill\n",
            "Successfully installed dill-0.3.8\n"
          ]
        }
      ]
    },
    {
      "cell_type": "code",
      "source": [
        "#Importing necessary modules and libraries\n",
        "import dill\n",
        "import pandas as pd\n",
        "from datetime import datetime\n",
        "import numpy as np\n",
        "from sklearn.pipeline import Pipeline"
      ],
      "metadata": {
        "id": "nuaIMhEIbqpg"
      },
      "execution_count": 3,
      "outputs": []
    },
    {
      "cell_type": "code",
      "source": [
        "coded_features = ['enc_paym_0', 'enc_paym_1', 'enc_paym_2', 'enc_paym_3', 'enc_paym_4', 'enc_paym_5', 'enc_paym_6', 'enc_paym_7',\n",
        "              'enc_paym_8', 'enc_paym_9', 'enc_paym_10', 'enc_paym_11', 'enc_paym_12', 'enc_paym_13', 'enc_paym_14',\n",
        "              'enc_paym_15', 'enc_paym_16', 'enc_paym_17', 'enc_paym_18', 'enc_paym_19', 'enc_paym_20', 'enc_paym_21',\n",
        "              'enc_paym_22', 'enc_paym_23', 'enc_paym_24', 'enc_loans_account_holder_type', 'enc_loans_credit_status',\n",
        "              'enc_loans_credit_type', 'enc_loans_account_cur']\n",
        "\n",
        "binary_cols = ['pre_since_opened', 'pre_since_confirmed', 'pre_pterm', 'pre_fterm', 'pre_till_pclose', 'pre_till_fclose',\n",
        "               'pre_loans_credit_limit', 'pre_loans_next_pay_summ', 'pre_loans_outstanding', 'pre_loans_total_overdue',\n",
        "               'pre_loans_max_overdue_sum', 'pre_loans_credit_cost_rate', 'pre_loans5', 'pre_loans530', 'pre_loans3060',\n",
        "               'pre_loans6090', 'pre_loans90', 'pre_util', 'pre_over2limit','pre_maxover2limit']\n",
        "\n",
        "flag_cols = ['is_zero_loans5', 'is_zero_loans530', 'is_zero_loans3060', 'is_zero_loans6090', 'is_zero_loans90', 'is_zero_util',\n",
        "             'is_zero_over2limit', 'is_zero_maxover2limit', 'pclose_flag', 'fclose_flag']\n",
        "\n",
        "ohe_cols = binary_cols + coded_features"
      ],
      "metadata": {
        "id": "ZC6sP-xtguie"
      },
      "execution_count": 20,
      "outputs": []
    },
    {
      "cell_type": "code",
      "source": [
        "with open('/content/drive/MyDrive/credit_risk_management.pkl', 'rb') as f:\n",
        "    model_data = dill.load(f)\n",
        "    pipeline = model_data['model']\n",
        "    ohe_transformation = pipeline.named_steps['preprocessor'].named_steps['column_transform'].named_transformers_['ohe']\n",
        "    final_pipeline = pipeline.named_steps['preprocessor'].named_steps['aggregation']\n",
        "    encoded_features = ohe_transformation.named_steps['ohe'].get_feature_names_out()"
      ],
      "metadata": {
        "id": "hlOxZpDEb-Gq"
      },
      "execution_count": 25,
      "outputs": []
    },
    {
      "cell_type": "code",
      "source": [
        "data = {\n",
        "    \"id\": [2322918, 2322918, 2322918],\n",
        "    \"rn\": [1, 2, 3],\n",
        "    \"pre_since_opened\": [0, 7, 19],\n",
        "    \"pre_since_confirmed\": [9, 9, 16],\n",
        "    \"pre_pterm\": [4, 4, 12],\n",
        "    \"pre_fterm\": [14, 8, 15],\n",
        "    \"pre_till_pclose\": [1, 1, 8],\n",
        "    \"pre_till_fclose\": [10, 11, 8],\n",
        "    \"pre_loans_credit_limit\": [17, 3, 10],\n",
        "    \"pre_loans_next_pay_summ\": [4, 6, 6],\n",
        "    \"pre_loans_outstanding\": [3, 3, 4],\n",
        "    \"pre_loans_total_overdue\": [0, 0, 0],\n",
        "    \"pre_loans_max_overdue_sum\": [1, 2, 2],\n",
        "    \"pre_loans_credit_cost_rate\": [5, 2, 3],\n",
        "    \"pre_loans5\": [6, 6, 6],\n",
        "    \"pre_loans530\": [16, 16, 16],\n",
        "    \"pre_loans3060\": [5, 5, 5],\n",
        "    \"pre_loans6090\": [4, 4, 4],\n",
        "    \"pre_loans90\": [8, 8, 8],\n",
        "    \"is_zero_loans5\": [1, 1, 1],\n",
        "    \"is_zero_loans530\": [0, 1, 0],\n",
        "    \"is_zero_loans3060\": [1, 1, 1],\n",
        "    \"is_zero_loans6090\": [1, 1, 1],\n",
        "    \"is_zero_loans90\": [1, 1, 1],\n",
        "    \"pre_util\": [16, 16, 0],\n",
        "    \"pre_over2limit\": [2, 2, 2],\n",
        "    \"pre_maxover2limit\": [3, 17, 17],\n",
        "    \"is_zero_util\": [1, 1, 0],\n",
        "    \"is_zero_over2limit\": [1, 1, 1],\n",
        "    \"is_zero_maxover2limit\": [0, 1, 1],\n",
        "    \"enc_paym_0\": [0, 0, 0],\n",
        "    \"enc_paym_1\": [0, 0, 1],\n",
        "    \"enc_paym_2\": [0, 0, 0],\n",
        "    \"enc_paym_3\": [0, 0, 0],\n",
        "    \"enc_paym_4\": [0, 0, 3],\n",
        "    \"enc_paym_5\": [1, 0, 3],\n",
        "    \"enc_paym_6\": [0, 3, 3],\n",
        "    \"enc_paym_7\": [0, 3, 3],\n",
        "    \"enc_paym_8\": [0, 3, 3],\n",
        "    \"enc_paym_9\": [0, 3, 3],\n",
        "    \"enc_paym_10\": [0, 3, 3],\n",
        "    \"enc_paym_11\": [1, 4, 4],\n",
        "    \"enc_paym_12\": [0, 3, 3],\n",
        "    \"enc_paym_13\": [0, 3, 3],\n",
        "    \"enc_paym_14\": [0, 3, 3],\n",
        "    \"enc_paym_15\": [0, 3, 3],\n",
        "    \"enc_paym_16\": [0, 3, 3],\n",
        "    \"enc_paym_17\": [0, 3, 3],\n",
        "    \"enc_paym_18\": [0, 3, 3],\n",
        "    \"enc_paym_19\": [0, 3, 3],\n",
        "    \"enc_paym_20\": [1, 4, 4],\n",
        "    \"enc_paym_21\": [0, 3, 3],\n",
        "    \"enc_paym_22\": [0, 3, 3],\n",
        "    \"enc_paym_23\": [0, 3, 3],\n",
        "    \"enc_paym_24\": [4, 4, 4],\n",
        "    \"enc_loans_account_holder_type\": [1, 1, 1],\n",
        "    \"enc_loans_credit_status\": [3, 2, 2],\n",
        "    \"enc_loans_credit_type\": [3, 3, 4],\n",
        "    \"enc_loans_account_cur\": [1, 1, 1],\n",
        "    \"pclose_flag\": [1, 1, 0],\n",
        "    \"fclose_flag\": [0, 1, 0]\n",
        "}\n"
      ],
      "metadata": {
        "id": "-m4hPwujcIrG"
      },
      "execution_count": 26,
      "outputs": []
    },
    {
      "cell_type": "code",
      "source": [
        "data_dict = data\n",
        "df = pd.DataFrame.from_dict(data_dict, orient='columns')"
      ],
      "metadata": {
        "id": "iQQ_ZsqvdFEW"
      },
      "execution_count": 27,
      "outputs": []
    },
    {
      "cell_type": "code",
      "source": [
        "X_pred = pipeline.predict(df)"
      ],
      "metadata": {
        "id": "ZxMHDGwzdNvF"
      },
      "execution_count": 28,
      "outputs": []
    },
    {
      "cell_type": "code",
      "source": [
        "X_pred[0]"
      ],
      "metadata": {
        "colab": {
          "base_uri": "https://localhost:8080/"
        },
        "id": "ju1FbPUwdUTB",
        "outputId": "e7bbad26-e90b-4c41-b668-3286a60eb3b4"
      },
      "execution_count": 29,
      "outputs": [
        {
          "output_type": "execute_result",
          "data": {
            "text/plain": [
              "1"
            ]
          },
          "metadata": {},
          "execution_count": 29
        }
      ]
    },
    {
      "cell_type": "code",
      "source": [],
      "metadata": {
        "id": "RO932tDsqcWq"
      },
      "execution_count": null,
      "outputs": []
    }
  ]
}