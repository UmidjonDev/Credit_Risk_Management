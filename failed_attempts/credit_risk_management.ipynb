{
  "cells": [
    {
      "cell_type": "markdown",
      "metadata": {
        "id": "4KRGnAQLqzRA"
      },
      "source": [
        "###This jupyter notebook file contains all codes and related information to teach machine learning model for credit risk management system.\n",
        "\n",
        "**Author : Umidjon Sattorov. Student at Skillbox platform and machine learning engineer.**"
      ]
    },
    {
      "cell_type": "code",
      "execution_count": 1,
      "metadata": {},
      "outputs": [],
      "source": [
        "#Configuring google colab to work with pyspark\n",
        "!pip install pyspark --quiet"
      ]
    },
    {
      "cell_type": "code",
      "execution_count": 1,
      "metadata": {
        "id": "Ci2JsDH4qW61"
      },
      "outputs": [],
      "source": [
        "#Configuring google colab to work with pyspark\n",
        "!pip install pyspark --quiet\n",
        "!pip install -U -q PyDrive --quiet\n",
        "!apt install openjdk-8-jdk-headless &> /dev/null\n",
        "import os\n",
        "os.environ[\"JAVA_HOME\"] = \"/usr/lib/jvm/java-8-openjdk-amd64\"\n",
        "os.environ[\"PYSPARK_SUBMIT_ARGS\"] = \"--driver-memory 8g --executor-memory 8g pyspark-shell\"\n",
        "\n",
        "!wget https://bin.equinox.io/c/4VmDzA7iaHb/ngrok-stable-linux-amd64.zip &> /dev/null\n",
        "!unzip ngrok-stable-linux-amd64.zip &> /dev/null\n",
        "get_ipython().system_raw('./ngrok http 4050 &')"
      ]
    },
    {
      "cell_type": "code",
      "execution_count": 2,
      "metadata": {
        "id": "XwgWp3VHrkyB"
      },
      "outputs": [],
      "source": [
        "#Building pyspark environment\n",
        "from pyspark.sql import SparkSession\n",
        "\n",
        "\n",
        "### Ваш код здесь ###\n",
        "spark = SparkSession.builder\\\n",
        "        .master(\"local[*]\")\\\n",
        "        .appName('Credit Risk Management')\\\n",
        "        .config(\"spark.driver.memory\", \"8g\")\\\n",
        "        .getOrCreate()"
      ]
    },
    {
      "cell_type": "code",
      "execution_count": 3,
      "metadata": {
        "colab": {
          "base_uri": "https://localhost:8080/"
        },
        "id": "SeDqlxfzrzxu",
        "outputId": "2421cf5e-327d-4f0f-ccb0-a355122e21f5"
      },
      "outputs": [
        {
          "name": "stdout",
          "output_type": "stream",
          "text": [
            "Mounted at /content/drive\n"
          ]
        }
      ],
      "source": [
        "#Adding google drive to colab environment.\n",
        "from google.colab import drive\n",
        "drive.mount(\"/content/drive\")"
      ]
    },
    {
      "cell_type": "code",
      "execution_count": 3,
      "metadata": {
        "id": "YEzhrkzawHXy"
      },
      "outputs": [],
      "source": [
        "#Importing necessary modules and libraries\n",
        "#Data processing\n",
        "import pandas as pd\n",
        "import numpy as np\n",
        "\n",
        "#Visualization\n",
        "import matplotlib.pyplot as plt\n",
        "import seaborn as sns\n",
        "import missingno as msno\n",
        "import plotly.express as px\n",
        "\n",
        "#Preprocessing and feature engineering\n",
        "from pyspark.sql.functions import monotonically_increasing_id, col\n",
        "from pyspark.ml.feature import VectorAssembler\n",
        "from sklearn.model_selection import train_test_split, RandomizedSearchCV, StratifiedGroupKFold\n",
        "from sklearn.preprocessing import OneHotEncoder, LabelEncoder\n",
        "from sklearn.preprocessing import MinMaxScaler\n",
        "from imblearn.over_sampling import SMOTE\n",
        "from sklearn.ensemble import IsolationForest\n",
        "from sklearn.impute import KNNImputer\n",
        "\n",
        "#Modelling\n",
        "from pyspark.ml.classification import MultilayerPerceptronClassifier\n",
        "\n",
        "#Metrics\n",
        "from pyspark.ml.evaluation import BinaryClassificationEvaluator"
      ]
    },
    {
      "cell_type": "code",
      "execution_count": 4,
      "metadata": {
        "colab": {
          "base_uri": "https://localhost:8080/",
          "height": 256
        },
        "id": "e0QX11aYwLTZ",
        "outputId": "f3ea25c6-010c-415e-a9ef-5d12c9a73fd8"
      },
      "outputs": [
        {
          "data": {
            "text/html": [
              "<div>\n",
              "<style scoped>\n",
              "    .dataframe tbody tr th:only-of-type {\n",
              "        vertical-align: middle;\n",
              "    }\n",
              "\n",
              "    .dataframe tbody tr th {\n",
              "        vertical-align: top;\n",
              "    }\n",
              "\n",
              "    .dataframe thead th {\n",
              "        text-align: right;\n",
              "    }\n",
              "</style>\n",
              "<table border=\"1\" class=\"dataframe\">\n",
              "  <thead>\n",
              "    <tr style=\"text-align: right;\">\n",
              "      <th></th>\n",
              "      <th>id</th>\n",
              "      <th>rn</th>\n",
              "      <th>pre_since_opened</th>\n",
              "      <th>pre_since_confirmed</th>\n",
              "      <th>pre_loans_credit_limit</th>\n",
              "      <th>pre_loans_next_pay_summ</th>\n",
              "      <th>pre_loans_outstanding</th>\n",
              "      <th>pre_loans_total_overdue</th>\n",
              "      <th>pre_loans_max_overdue_sum</th>\n",
              "      <th>pre_loans_credit_cost_rate</th>\n",
              "      <th>...</th>\n",
              "      <th>total_enc_paym</th>\n",
              "      <th>deviation_pfterm</th>\n",
              "      <th>deviation_till_close_pfdates</th>\n",
              "      <th>total_overdues</th>\n",
              "      <th>is_zero_loans5</th>\n",
              "      <th>is_zero_loans530</th>\n",
              "      <th>is_zero_loans3060</th>\n",
              "      <th>is_zero_loans6090</th>\n",
              "      <th>is_zero_loans90</th>\n",
              "      <th>flag</th>\n",
              "    </tr>\n",
              "  </thead>\n",
              "  <tbody>\n",
              "    <tr>\n",
              "      <th>0</th>\n",
              "      <td>0</td>\n",
              "      <td>5.5</td>\n",
              "      <td>8.100000</td>\n",
              "      <td>7.600000</td>\n",
              "      <td>9.600000</td>\n",
              "      <td>3.100000</td>\n",
              "      <td>2.900000</td>\n",
              "      <td>0.0</td>\n",
              "      <td>2.000000</td>\n",
              "      <td>8.000000</td>\n",
              "      <td>...</td>\n",
              "      <td>42.700000</td>\n",
              "      <td>0.400000</td>\n",
              "      <td>0.700000</td>\n",
              "      <td>39.000000</td>\n",
              "      <td>1</td>\n",
              "      <td>1</td>\n",
              "      <td>1</td>\n",
              "      <td>1</td>\n",
              "      <td>1</td>\n",
              "      <td>0</td>\n",
              "    </tr>\n",
              "    <tr>\n",
              "      <th>1</th>\n",
              "      <td>1</td>\n",
              "      <td>7.5</td>\n",
              "      <td>11.428571</td>\n",
              "      <td>7.642857</td>\n",
              "      <td>8.142857</td>\n",
              "      <td>2.142857</td>\n",
              "      <td>2.928571</td>\n",
              "      <td>0.0</td>\n",
              "      <td>1.928571</td>\n",
              "      <td>3.714286</td>\n",
              "      <td>...</td>\n",
              "      <td>44.285714</td>\n",
              "      <td>1.285714</td>\n",
              "      <td>3.071429</td>\n",
              "      <td>39.000000</td>\n",
              "      <td>1</td>\n",
              "      <td>1</td>\n",
              "      <td>1</td>\n",
              "      <td>1</td>\n",
              "      <td>1</td>\n",
              "      <td>0</td>\n",
              "    </tr>\n",
              "    <tr>\n",
              "      <th>2</th>\n",
              "      <td>2</td>\n",
              "      <td>2.0</td>\n",
              "      <td>8.333333</td>\n",
              "      <td>10.666667</td>\n",
              "      <td>1.666667</td>\n",
              "      <td>1.333333</td>\n",
              "      <td>3.000000</td>\n",
              "      <td>0.0</td>\n",
              "      <td>1.666667</td>\n",
              "      <td>4.000000</td>\n",
              "      <td>...</td>\n",
              "      <td>49.666667</td>\n",
              "      <td>-1.000000</td>\n",
              "      <td>-4.000000</td>\n",
              "      <td>34.333333</td>\n",
              "      <td>1</td>\n",
              "      <td>1</td>\n",
              "      <td>1</td>\n",
              "      <td>1</td>\n",
              "      <td>1</td>\n",
              "      <td>0</td>\n",
              "    </tr>\n",
              "    <tr>\n",
              "      <th>3</th>\n",
              "      <td>3</td>\n",
              "      <td>8.0</td>\n",
              "      <td>7.000000</td>\n",
              "      <td>7.333333</td>\n",
              "      <td>9.866667</td>\n",
              "      <td>2.600000</td>\n",
              "      <td>3.266667</td>\n",
              "      <td>0.0</td>\n",
              "      <td>2.000000</td>\n",
              "      <td>4.466667</td>\n",
              "      <td>...</td>\n",
              "      <td>28.800000</td>\n",
              "      <td>0.200000</td>\n",
              "      <td>-2.933333</td>\n",
              "      <td>39.000000</td>\n",
              "      <td>1</td>\n",
              "      <td>1</td>\n",
              "      <td>1</td>\n",
              "      <td>1</td>\n",
              "      <td>1</td>\n",
              "      <td>0</td>\n",
              "    </tr>\n",
              "    <tr>\n",
              "      <th>4</th>\n",
              "      <td>4</td>\n",
              "      <td>1.0</td>\n",
              "      <td>12.000000</td>\n",
              "      <td>9.000000</td>\n",
              "      <td>12.000000</td>\n",
              "      <td>1.000000</td>\n",
              "      <td>3.000000</td>\n",
              "      <td>0.0</td>\n",
              "      <td>2.000000</td>\n",
              "      <td>0.000000</td>\n",
              "      <td>...</td>\n",
              "      <td>78.000000</td>\n",
              "      <td>4.000000</td>\n",
              "      <td>-10.000000</td>\n",
              "      <td>39.000000</td>\n",
              "      <td>1</td>\n",
              "      <td>1</td>\n",
              "      <td>1</td>\n",
              "      <td>1</td>\n",
              "      <td>1</td>\n",
              "      <td>0</td>\n",
              "    </tr>\n",
              "  </tbody>\n",
              "</table>\n",
              "<p>5 rows × 28 columns</p>\n",
              "</div>"
            ],
            "text/plain": [
              "   id   rn  pre_since_opened  pre_since_confirmed  pre_loans_credit_limit  \\\n",
              "0   0  5.5          8.100000             7.600000                9.600000   \n",
              "1   1  7.5         11.428571             7.642857                8.142857   \n",
              "2   2  2.0          8.333333            10.666667                1.666667   \n",
              "3   3  8.0          7.000000             7.333333                9.866667   \n",
              "4   4  1.0         12.000000             9.000000               12.000000   \n",
              "\n",
              "   pre_loans_next_pay_summ  pre_loans_outstanding  pre_loans_total_overdue  \\\n",
              "0                 3.100000               2.900000                      0.0   \n",
              "1                 2.142857               2.928571                      0.0   \n",
              "2                 1.333333               3.000000                      0.0   \n",
              "3                 2.600000               3.266667                      0.0   \n",
              "4                 1.000000               3.000000                      0.0   \n",
              "\n",
              "   pre_loans_max_overdue_sum  pre_loans_credit_cost_rate  ...  total_enc_paym  \\\n",
              "0                   2.000000                    8.000000  ...       42.700000   \n",
              "1                   1.928571                    3.714286  ...       44.285714   \n",
              "2                   1.666667                    4.000000  ...       49.666667   \n",
              "3                   2.000000                    4.466667  ...       28.800000   \n",
              "4                   2.000000                    0.000000  ...       78.000000   \n",
              "\n",
              "   deviation_pfterm  deviation_till_close_pfdates  total_overdues  \\\n",
              "0          0.400000                      0.700000       39.000000   \n",
              "1          1.285714                      3.071429       39.000000   \n",
              "2         -1.000000                     -4.000000       34.333333   \n",
              "3          0.200000                     -2.933333       39.000000   \n",
              "4          4.000000                    -10.000000       39.000000   \n",
              "\n",
              "   is_zero_loans5  is_zero_loans530  is_zero_loans3060  is_zero_loans6090  \\\n",
              "0               1                 1                  1                  1   \n",
              "1               1                 1                  1                  1   \n",
              "2               1                 1                  1                  1   \n",
              "3               1                 1                  1                  1   \n",
              "4               1                 1                  1                  1   \n",
              "\n",
              "   is_zero_loans90  flag  \n",
              "0                1     0  \n",
              "1                1     0  \n",
              "2                1     0  \n",
              "3                1     0  \n",
              "4                1     0  \n",
              "\n",
              "[5 rows x 28 columns]"
            ]
          },
          "execution_count": 4,
          "metadata": {},
          "output_type": "execute_result"
        }
      ],
      "source": [
        "#Reading dataframe in pandas dataframe format\n",
        "df = pd.read_csv(\"./data/train_full.csv\")\n",
        "df.head()"
      ]
    },
    {
      "cell_type": "code",
      "execution_count": 5,
      "metadata": {
        "id": "WUpbjOYIxBfb"
      },
      "outputs": [],
      "source": [
        "#Dividing dataset into training and test sets\n",
        "x = df.drop(columns = ['id', 'flag'])\n",
        "y = df['flag']\n",
        "\n",
        "x_train, x_test, y_train, y_test = train_test_split(x, y, test_size = 0.3, random_state = 1)"
      ]
    },
    {
      "cell_type": "code",
      "execution_count": 6,
      "metadata": {
        "colab": {
          "base_uri": "https://localhost:8080/"
        },
        "id": "HbUj6QiyxRT8",
        "outputId": "51814e22-81ac-4898-c5fd-e060f1dffe92"
      },
      "outputs": [
        {
          "data": {
            "text/plain": [
              "flag\n",
              "0    2025486\n",
              "1    2025486\n",
              "Name: count, dtype: int64"
            ]
          },
          "execution_count": 6,
          "metadata": {},
          "output_type": "execute_result"
        }
      ],
      "source": [
        "#Using smote for balancing dataset\n",
        "os = SMOTE(random_state = 1)\n",
        "\n",
        "x_train_resampled, y_train_resampled = os.fit_resample(X = x_train, y = y_train)\n",
        "y_train_resampled.value_counts()"
      ]
    },
    {
      "cell_type": "code",
      "execution_count": 7,
      "metadata": {
        "id": "B3bUiM8TzDaR"
      },
      "outputs": [],
      "source": [
        "#Saving resulting dataframes to csv format to google drive\n",
        "x_train_resampled.to_csv(\"./data/x_train_resampled.csv\", index = False)\n",
        "y_train_resampled.to_csv(\"./data/y_train_resampled.csv\", index = False)\n",
        "x_test.to_csv(\"./data/x_test.csv\", index = False)\n",
        "y_test.to_csv(\"./data/y_test.csv\", index = False)\n",
        "x_train.to_csv(\"./data/x_train.csv\", index = False)\n",
        "y_train.to_csv(\"./data/y_train.csv\", index = False)"
      ]
    },
    {
      "cell_type": "code",
      "execution_count": 9,
      "metadata": {
        "id": "n-F2ejoHxhbm"
      },
      "outputs": [],
      "source": [
        "#Reading dataframe from csv file\n",
        "x_train_resampled_sp = spark.read.option(\"header\",True).option(\"delimiter\",\",\").csv(\"./data/x_train_resampled.csv\")\n",
        "y_train_resampled_sp = spark.read.option(\"header\",True).option(\"delimiter\",\",\").csv(\"./data/y_train_resampled.csv\")\n",
        "x_test_sp = spark.read.option(\"header\",True).option(\"delimiter\",\",\").csv(\"./data/x_test.csv\")\n",
        "y_test_sp = spark.read.option(\"header\",True).option(\"delimiter\",\",\").csv(\"./data/y_test.csv\")\n",
        "x_train_sp = spark.read.option(\"header\",True).option(\"delimiter\",\",\").csv(\"./data/x_train.csv\")\n",
        "y_train_sp = spark.read.option(\"header\",True).option(\"delimiter\",\",\").csv(\"./data/y_train.csv\")"
      ]
    },
    {
      "cell_type": "code",
      "execution_count": 10,
      "metadata": {
        "colab": {
          "base_uri": "https://localhost:8080/"
        },
        "id": "tdQdMFw82kys",
        "outputId": "a501371a-d50d-4b8d-f62c-c1719fc14306"
      },
      "outputs": [
        {
          "name": "stdout",
          "output_type": "stream",
          "text": [
            "+----+------------------+-------------------+----------------------+-----------------------+---------------------+-----------------------+-------------------------+--------------------------+------------------+------------------+-----------------------------+-----------------------+---------------------+---------------------+------------------+------------------+------------------+-------------------+----------------------------+------------------+--------------+----------------+-----------------+-----------------+---------------+----+\n",
            "|  rn|  pre_since_opened|pre_since_confirmed|pre_loans_credit_limit|pre_loans_next_pay_summ|pre_loans_outstanding|pre_loans_total_overdue|pre_loans_max_overdue_sum|pre_loans_credit_cost_rate|    pre_over2limit| pre_maxover2limit|enc_loans_account_holder_type|enc_loans_credit_status|enc_loans_credit_type|enc_loans_account_cur|       pclose_flag|       fclose_flag|    total_enc_paym|   deviation_pfterm|deviation_till_close_pfdates|    total_overdues|is_zero_loans5|is_zero_loans530|is_zero_loans3060|is_zero_loans6090|is_zero_loans90|flag|\n",
            "+----+------------------+-------------------+----------------------+-----------------------+---------------------+-----------------------+-------------------------+--------------------------+------------------+------------------+-----------------------------+-----------------------+---------------------+---------------------+------------------+------------------+------------------+-------------------+----------------------------+------------------+--------------+----------------+-----------------+-----------------+---------------+----+\n",
            "| 3.0|               7.8|               10.2|                  12.0|                    2.2|                  3.2|                    0.0|                      2.0|                       4.0|               2.0|              17.0|                          1.0|                    2.4|                  3.8|                  1.0|               0.0|               0.6|              27.6|               -0.4|                        -1.6|              39.0|             1|               1|                1|                1|              1|   0|\n",
            "| 8.5|           10.0625|             8.8125|                 9.625|                 2.8125|                2.875|                    0.0|                      2.0|                    4.1875|            2.1875|           16.1875|                         1.25|                 2.8125|               3.1875|                  1.0|            0.0625|            0.0625|           40.3125|            -2.1875|                     -2.0625|              39.0|             1|               1|                1|                1|              1|   0|\n",
            "|10.5|               9.9|               9.35|                  11.5|                    3.6|                  3.0|                    0.0|                     2.65|                      5.05|               2.0|              9.25|                          1.0|                    2.7|                 3.55|                  1.0|              0.25|               0.3|              48.6|               -1.6|                        -0.7|             38.55|             1|               0|                1|                1|              1|   0|\n",
            "| 6.5|10.333333333333334|  7.666666666666667|     9.166666666666666|                    2.0|                  3.0|                    0.0|                      2.0|         6.333333333333333|               2.0|              17.0|                          1.0|                   2.75|                 3.75|                  1.0|0.0833333333333333|0.1666666666666666|             36.75|               -0.5|           2.833333333333333|              39.0|             1|               1|                1|                1|              1|   0|\n",
            "| 2.0|              11.0| 12.333333333333334|                  11.0|                    2.0|   2.6666666666666665|                    0.0|                      2.0|        1.3333333333333333|               3.0|12.666666666666666|                          1.0|     2.6666666666666665|    3.333333333333333|                  1.0|0.3333333333333333|0.6666666666666666|              63.0|               -4.0|                        -2.0|              39.0|             1|               1|                1|                1|              1|   0|\n",
            "| 3.0|               9.2|                5.6|                   7.2|                    2.0|                  3.0|                    0.0|                      2.0|                       1.4|               2.0|              17.0|                          1.0|                    2.6|                  3.4|                  1.0|               0.2|               0.4|              40.8|                0.6|                        -3.0|              39.0|             1|               1|                1|                1|              1|   0|\n",
            "| 5.5|               8.7|                7.4|                   9.3|                    2.4|                  2.5|                    0.0|                      2.0|                       4.8|               2.3|              15.7|                          1.0|                    2.4|                  2.9|                  1.0|               0.0|               0.1|              32.0|               -2.9|                         0.2|              39.0|             1|               1|                1|                1|              1|   0|\n",
            "| 6.0| 8.727272727272727|  6.090909090909091|                   8.0|      2.272727272727273|                  3.0|                    0.0|                      2.0|         7.454545454545454| 2.272727272727273|15.818181818181818|            1.181818181818182|     2.4545454545454546|    3.909090909090909|                  1.0|0.0909090909090909|0.3636363636363636| 55.72727272727273| -1.181818181818182|          -4.454545454545454|              39.0|             1|               1|                1|                1|              1|   0|\n",
            "| 7.5| 8.857142857142858|  9.642857142857142|                  11.5|      2.071428571428572|    3.142857142857143|                    0.0|                      2.0|        3.7857142857142856| 2.642857142857143|14.214285714285714|                          1.0|      2.857142857142857|    3.357142857142857|                  1.0|0.2142857142857142|0.2142857142857142|              40.0|-0.7857142857142857|         -2.9285714285714284|38.785714285714285|             1|               1|                1|                1|              1|   0|\n",
            "|12.5|            11.125|  6.291666666666667|     9.416666666666666|     2.0416666666666665|    3.208333333333333|                    0.0|                      2.0|         4.916666666666667|               2.0|              17.0|                          1.0|                   2.75|                  4.0|                  1.0|               0.0|0.0833333333333333|36.208333333333336| 0.9583333333333334|                       -0.75|            38.875|             1|               1|                1|                1|              1|   0|\n",
            "| 1.5|               4.0|               13.0|                   9.5|                    2.5|                  5.0|                    0.0|                      2.0|                       0.5|               2.0|              17.0|                          1.0|                    2.0|                  3.0|                  1.0|               0.0|               0.5|              49.5|                0.0|                         1.5|              39.0|             1|               1|                1|                1|              1|   0|\n",
            "| 6.0| 7.636363636363637|  9.181818181818182|     8.545454545454545|     1.9090909090909087|    3.090909090909091|                    0.0|                      2.0|         6.545454545454546|2.8181818181818183|13.454545454545457|                          1.0|      2.909090909090909|    3.636363636363636|                  1.0|0.4545454545454545|0.1818181818181818| 46.90909090909091| 0.5454545454545454|          -5.181818181818182|              39.0|             1|               1|                1|                1|              1|   0|\n",
            "| 3.0|               8.4|                5.6|                  13.2|                    2.0|                  3.4|                    0.0|                      2.0|                       4.2|               2.6|              14.4|                          1.0|                    2.2|                  3.4|                  1.0|               0.2|               0.4|              53.8|               -4.2|                        -2.6|              37.8|             1|               1|                1|                1|              1|   0|\n",
            "| 1.5|              10.5|                9.0|                  12.5|                    2.0|                  3.5|                    0.0|                      2.5|                       3.0|               2.0|              17.0|                          1.0|                    2.5|                  3.0|                  1.0|               1.0|               0.5|              10.0|                7.0|                        -4.5|              39.0|             1|               0|                1|                1|              1|   0|\n",
            "| 2.5|             13.75|               11.0|                  9.25|                   2.25|                  2.5|                    0.0|                      2.0|                       4.5|               2.0|              17.0|                          1.0|                    2.5|                 2.75|                  1.0|               0.0|               0.5|             35.25|               -1.0|                         4.0|              39.0|             1|               1|                1|                1|              1|   0|\n",
            "| 1.5|               7.0|                5.5|                   9.0|                    1.0|                  2.0|                    0.0|                      2.0|                       6.5|               2.0|              17.0|                          1.0|                    2.5|                  4.0|                  1.0|               0.0|               0.0|              55.5|               -2.5|                        -3.5|              39.0|             1|               1|                1|                1|              1|   0|\n",
            "| 5.5|              11.4|                6.9|                   9.4|                    2.1|                  3.2|                    0.0|                      2.0|                       3.4|               2.0|              17.0|                          1.0|                    3.0|                  3.4|                  1.0|               0.0|               0.0|              41.8|               -0.4|                         0.3|              37.8|             1|               0|                0|                1|              1|   0|\n",
            "| 2.5|              11.5|               8.25|                  6.25|                    2.0|                  3.5|                    0.0|                      2.0|                       2.5|               2.0|              17.0|                          1.0|                    2.5|                 3.75|                  1.0|               0.0|               0.5|             56.25|               -1.0|                        -5.0|              39.0|             1|               1|                1|                1|              1|   0|\n",
            "| 5.5|              11.8|                8.1|                   8.2|                    1.9|                  2.9|                    0.0|                      1.9|                       4.0|               2.3|              14.9|                          1.0|                    2.8|                  3.5|                  1.0|               0.3|               0.4|              59.1|                1.7|                        -2.3|              39.2|             1|               1|                0|                0|              0|   0|\n",
            "| 8.0|11.466666666666669|                9.2|    10.666666666666666|     2.1333333333333333|    3.066666666666667|                    0.0|                      2.0|         4.866666666666666|               2.0|              17.0|                          1.0|                    2.8|   3.2666666666666666|                  1.0|0.1333333333333333|0.1333333333333333|              60.8|               -0.8|         -0.8666666666666667|              39.0|             1|               1|                1|                1|              1|   0|\n",
            "+----+------------------+-------------------+----------------------+-----------------------+---------------------+-----------------------+-------------------------+--------------------------+------------------+------------------+-----------------------------+-----------------------+---------------------+---------------------+------------------+------------------+------------------+-------------------+----------------------------+------------------+--------------+----------------+-----------------+-----------------+---------------+----+\n",
            "only showing top 20 rows\n",
            "\n"
          ]
        }
      ],
      "source": [
        "x_train_resampled_spark = x_train_resampled_sp.withColumn(\"index\", monotonically_increasing_id())\n",
        "y_train_resampled_spark = y_train_resampled_sp.withColumn(\"index\", monotonically_increasing_id())\n",
        "\n",
        "resampled_spark_df = x_train_resampled_spark.join(y_train_resampled_spark, on=\"index\").drop(\"index\")\n",
        "resampled_spark_df.show()"
      ]
    },
    {
      "cell_type": "code",
      "execution_count": 11,
      "metadata": {
        "id": "ZO75kU9B4C1k"
      },
      "outputs": [],
      "source": [
        "resampled_spark_df_formatted = resampled_spark_df.select(\n",
        "    col(\"rn\").cast(\"Double\"),\n",
        "    col(\"pre_since_confirmed\").cast(\"Double\"),\n",
        "    col(\"pre_loans_credit_limit\").cast(\"Double\"),\n",
        "    col(\"pre_loans_next_pay_summ\").cast(\"Double\"),\n",
        "    col(\"pre_loans_outstanding\").cast(\"Double\"),\n",
        "    col(\"pre_loans_total_overdue\").cast(\"Double\"),\n",
        "    col(\"pre_loans_max_overdue_sum\").cast(\"Double\"),\n",
        "    col(\"pre_loans_credit_cost_rate\").cast(\"Double\"),\n",
        "    col(\"pre_over2limit\").cast(\"Double\"),\n",
        "    col(\"pre_maxover2limit\").cast(\"Double\"),\n",
        "    col(\"enc_loans_account_holder_type\").cast(\"Double\"),\n",
        "    col(\"enc_loans_credit_status\").cast(\"Double\"),\n",
        "    col(\"enc_loans_credit_type\").cast(\"Double\"),\n",
        "    col(\"enc_loans_account_cur\").cast(\"Int\"),\n",
        "    col(\"pclose_flag\").cast(\"Int\"),\n",
        "    col(\"fclose_flag\").cast(\"Int\"),\n",
        "    col(\"total_enc_paym\").cast(\"Double\"),\n",
        "    col(\"deviation_pfterm\").cast(\"Double\"),\n",
        "    col(\"deviation_till_close_pfdates\").cast(\"Double\"),\n",
        "    col(\"total_overdues\").cast(\"Double\"),\n",
        "    col(\"is_zero_loans5\").cast(\"Int\"),\n",
        "    col(\"is_zero_loans530\").cast(\"Int\"),\n",
        "    col(\"is_zero_loans3060\").cast(\"Int\"),\n",
        "    col(\"is_zero_loans6090\").cast(\"Int\"),\n",
        "    col(\"is_zero_loans90\").cast(\"Int\"),\n",
        "    col(\"flag\").cast(\"Int\")\n",
        ")"
      ]
    },
    {
      "cell_type": "code",
      "execution_count": 12,
      "metadata": {
        "colab": {
          "base_uri": "https://localhost:8080/"
        },
        "id": "_AtqbLBEujAx",
        "outputId": "b3dadd2f-31bd-4742-91fa-15982a3e389d"
      },
      "outputs": [
        {
          "name": "stdout",
          "output_type": "stream",
          "text": [
            "+--------------------+----+\n",
            "|            features|flag|\n",
            "+--------------------+----+\n",
            "|[3.0,10.2,12.0,2....|   0|\n",
            "|[8.5,8.8125,9.625...|   0|\n",
            "|[10.5,9.35,11.5,3...|   0|\n",
            "|[6.5,7.6666666666...|   0|\n",
            "|[2.0,12.333333333...|   0|\n",
            "|[3.0,5.6,7.2,2.0,...|   0|\n",
            "|[5.5,7.4,9.3,2.4,...|   0|\n",
            "|[6.0,6.0909090909...|   0|\n",
            "|[7.5,9.6428571428...|   0|\n",
            "|[12.5,6.291666666...|   0|\n",
            "|[1.5,13.0,9.5,2.5...|   0|\n",
            "|[6.0,9.1818181818...|   0|\n",
            "|[3.0,5.6,13.2,2.0...|   0|\n",
            "|[1.5,9.0,12.5,2.0...|   0|\n",
            "|[2.5,11.0,9.25,2....|   0|\n",
            "|[1.5,5.5,9.0,1.0,...|   0|\n",
            "|[5.5,6.9,9.4,2.1,...|   0|\n",
            "|[2.5,8.25,6.25,2....|   0|\n",
            "|[5.5,8.1,8.2,1.9,...|   0|\n",
            "|[8.0,9.2,10.66666...|   0|\n",
            "+--------------------+----+\n",
            "only showing top 20 rows\n",
            "\n"
          ]
        }
      ],
      "source": [
        "# Assemble features into a vector\n",
        "feature_columns = resampled_spark_df_formatted.columns\n",
        "feature_columns.remove('flag')\n",
        "assembler = VectorAssembler(inputCols=feature_columns, outputCol=\"features\")\n",
        "train_data_assembled = assembler.transform(resampled_spark_df_formatted).select(\"features\", \"flag\")\n",
        "train_data_assembled.show()"
      ]
    },
    {
      "cell_type": "code",
      "execution_count": 13,
      "metadata": {
        "colab": {
          "base_uri": "https://localhost:8080/"
        },
        "id": "YKUcazd77GB4",
        "outputId": "fd149e1c-7138-4036-bb9e-8f1814c38986"
      },
      "outputs": [
        {
          "name": "stdout",
          "output_type": "stream",
          "text": [
            "+--------------------+----+\n",
            "|            features|flag|\n",
            "+--------------------+----+\n",
            "|[2.5,6.75,7.0,3.5...|   0|\n",
            "|[1.0,16.0,7.0,4.0...|   0|\n",
            "|[4.0,5.7142857142...|   0|\n",
            "|[2.5,10.0,14.75,2...|   0|\n",
            "|[5.5,10.7,12.9,2....|   0|\n",
            "|[5.0,5.5555555555...|   0|\n",
            "|[1.5,9.0,9.5,1.5,...|   0|\n",
            "|[6.5,9.3333333333...|   0|\n",
            "|[13.0,8.56,8.56,2...|   0|\n",
            "|[4.5,4.875,8.75,2...|   0|\n",
            "|[2.5,7.25,4.75,1....|   0|\n",
            "|[2.5,8.25,17.0,2....|   0|\n",
            "|[5.0,7.7777777777...|   0|\n",
            "|[11.5,8.863636363...|   0|\n",
            "|[2.0,7.0,12.66666...|   0|\n",
            "|[2.0,10.0,10.0,2....|   0|\n",
            "|[7.5,8.8571428571...|   0|\n",
            "|[1.5,9.0,11.0,2.5...|   0|\n",
            "|[7.0,11.692307692...|   0|\n",
            "|[9.5,8.5555555555...|   0|\n",
            "+--------------------+----+\n",
            "only showing top 20 rows\n",
            "\n"
          ]
        }
      ],
      "source": [
        "#Preparing test data\n",
        "x_test_spark = x_test_sp.withColumn(\"index\", monotonically_increasing_id())\n",
        "y_test_spark = y_test_sp.withColumn(\"index\", monotonically_increasing_id())\n",
        "\n",
        "test_sp = x_test_spark.join(y_test_spark, on=\"index\").drop(\"index\")\n",
        "\n",
        "test_sp_formatted = test_sp.select(\n",
        "    col(\"rn\").cast(\"Double\"),\n",
        "    col(\"pre_since_confirmed\").cast(\"Double\"),\n",
        "    col(\"pre_loans_credit_limit\").cast(\"Double\"),\n",
        "    col(\"pre_loans_next_pay_summ\").cast(\"Double\"),\n",
        "    col(\"pre_loans_outstanding\").cast(\"Double\"),\n",
        "    col(\"pre_loans_total_overdue\").cast(\"Double\"),\n",
        "    col(\"pre_loans_max_overdue_sum\").cast(\"Double\"),\n",
        "    col(\"pre_loans_credit_cost_rate\").cast(\"Double\"),\n",
        "    col(\"pre_over2limit\").cast(\"Double\"),\n",
        "    col(\"pre_maxover2limit\").cast(\"Double\"),\n",
        "    col(\"enc_loans_account_holder_type\").cast(\"Double\"),\n",
        "    col(\"enc_loans_credit_status\").cast(\"Double\"),\n",
        "    col(\"enc_loans_credit_type\").cast(\"Double\"),\n",
        "    col(\"enc_loans_account_cur\").cast(\"Int\"),\n",
        "    col(\"pclose_flag\").cast(\"Int\"),\n",
        "    col(\"fclose_flag\").cast(\"Int\"),\n",
        "    col(\"total_enc_paym\").cast(\"Double\"),\n",
        "    col(\"deviation_pfterm\").cast(\"Double\"),\n",
        "    col(\"deviation_till_close_pfdates\").cast(\"Double\"),\n",
        "    col(\"total_overdues\").cast(\"Double\"),\n",
        "    col(\"is_zero_loans5\").cast(\"Int\"),\n",
        "    col(\"is_zero_loans530\").cast(\"Int\"),\n",
        "    col(\"is_zero_loans3060\").cast(\"Int\"),\n",
        "    col(\"is_zero_loans6090\").cast(\"Int\"),\n",
        "    col(\"is_zero_loans90\").cast(\"Int\"),\n",
        "    col(\"flag\").cast(\"Int\")\n",
        ")\n",
        "\n",
        "test_data_assembled = assembler.transform(test_sp_formatted).select(\"features\", \"flag\")\n",
        "test_data_assembled.show()"
      ]
    },
    {
      "cell_type": "code",
      "execution_count": 22,
      "metadata": {
        "colab": {
          "base_uri": "https://localhost:8080/",
          "height": 1000
        },
        "id": "JuGPRGOK6y10",
        "outputId": "c7ddf5bf-f777-495d-8228-48fe852315a8"
      },
      "outputs": [
        {
          "name": "stdout",
          "output_type": "stream",
          "text": [
            "Layers: [25, 50, 5, 2] - Train AUC: 0.5049078862141523 - Test AUC: 0.5842811469186086 - AUC Diff: 0.07937326070445627\n"
          ]
        },
        {
          "name": "stderr",
          "output_type": "stream",
          "text": [
            "ERROR:root:KeyboardInterrupt while sending command.\n",
            "Traceback (most recent call last):\n",
            "  File \"c:\\Users\\User\\AppData\\Local\\Programs\\Python\\Python312\\Lib\\site-packages\\py4j\\java_gateway.py\", line 1038, in send_command\n",
            "    response = connection.send_command(command)\n",
            "               ^^^^^^^^^^^^^^^^^^^^^^^^^^^^^^^^\n",
            "  File \"c:\\Users\\User\\AppData\\Local\\Programs\\Python\\Python312\\Lib\\site-packages\\py4j\\clientserver.py\", line 511, in send_command\n",
            "    answer = smart_decode(self.stream.readline()[:-1])\n",
            "                          ^^^^^^^^^^^^^^^^^^^^^^\n",
            "  File \"c:\\Users\\User\\AppData\\Local\\Programs\\Python\\Python312\\Lib\\socket.py\", line 707, in readinto\n",
            "    return self._sock.recv_into(b)\n",
            "           ^^^^^^^^^^^^^^^^^^^^^^^\n",
            "KeyboardInterrupt\n"
          ]
        },
        {
          "ename": "KeyboardInterrupt",
          "evalue": "",
          "output_type": "error",
          "traceback": [
            "\u001b[1;31m---------------------------------------------------------------------------\u001b[0m",
            "\u001b[1;31mKeyboardInterrupt\u001b[0m                         Traceback (most recent call last)",
            "Cell \u001b[1;32mIn[22], line 32\u001b[0m\n\u001b[0;32m     29\u001b[0m best_auc_diff \u001b[38;5;241m=\u001b[39m \u001b[38;5;28mfloat\u001b[39m(\u001b[38;5;124m'\u001b[39m\u001b[38;5;124minf\u001b[39m\u001b[38;5;124m'\u001b[39m)\n\u001b[0;32m     31\u001b[0m \u001b[38;5;28;01mfor\u001b[39;00m l \u001b[38;5;129;01min\u001b[39;00m layers_list : \n\u001b[1;32m---> 32\u001b[0m     train_auc, test_auc \u001b[38;5;241m=\u001b[39m \u001b[43mtrain_and_evaluate\u001b[49m\u001b[43m(\u001b[49m\u001b[43ml\u001b[49m\u001b[43m)\u001b[49m\n\u001b[0;32m     33\u001b[0m     auc_diff \u001b[38;5;241m=\u001b[39m \u001b[38;5;28mabs\u001b[39m(train_auc \u001b[38;5;241m-\u001b[39m test_auc)\n\u001b[0;32m     35\u001b[0m     \u001b[38;5;28mprint\u001b[39m(\u001b[38;5;124mf\u001b[39m\u001b[38;5;124m\"\u001b[39m\u001b[38;5;124mLayers: \u001b[39m\u001b[38;5;132;01m{\u001b[39;00ml\u001b[38;5;132;01m}\u001b[39;00m\u001b[38;5;124m - Train AUC: \u001b[39m\u001b[38;5;132;01m{\u001b[39;00mtrain_auc\u001b[38;5;132;01m}\u001b[39;00m\u001b[38;5;124m - Test AUC: \u001b[39m\u001b[38;5;132;01m{\u001b[39;00mtest_auc\u001b[38;5;132;01m}\u001b[39;00m\u001b[38;5;124m - AUC Diff: \u001b[39m\u001b[38;5;132;01m{\u001b[39;00mauc_diff\u001b[38;5;132;01m}\u001b[39;00m\u001b[38;5;124m\"\u001b[39m)\n",
            "Cell \u001b[1;32mIn[22], line 11\u001b[0m, in \u001b[0;36mtrain_and_evaluate\u001b[1;34m(layers)\u001b[0m\n\u001b[0;32m      8\u001b[0m \u001b[38;5;28;01mdef\u001b[39;00m \u001b[38;5;21mtrain_and_evaluate\u001b[39m(layers) : \n\u001b[0;32m      9\u001b[0m     mlp \u001b[38;5;241m=\u001b[39m MultilayerPerceptronClassifier(layers \u001b[38;5;241m=\u001b[39m layers, seed \u001b[38;5;241m=\u001b[39m \u001b[38;5;241m1\u001b[39m, labelCol \u001b[38;5;241m=\u001b[39m \u001b[38;5;124m\"\u001b[39m\u001b[38;5;124mflag\u001b[39m\u001b[38;5;124m\"\u001b[39m, featuresCol \u001b[38;5;241m=\u001b[39m \u001b[38;5;124m\"\u001b[39m\u001b[38;5;124mfeatures\u001b[39m\u001b[38;5;124m\"\u001b[39m)\n\u001b[1;32m---> 11\u001b[0m     mlp_model \u001b[38;5;241m=\u001b[39m \u001b[43mmlp\u001b[49m\u001b[38;5;241;43m.\u001b[39;49m\u001b[43mfit\u001b[49m\u001b[43m(\u001b[49m\u001b[43mtrain_data_assembled\u001b[49m\u001b[43m)\u001b[49m\n\u001b[0;32m     13\u001b[0m     \u001b[38;5;66;03m# Model evaluator\u001b[39;00m\n\u001b[0;32m     14\u001b[0m     evaluator \u001b[38;5;241m=\u001b[39m BinaryClassificationEvaluator(labelCol\u001b[38;5;241m=\u001b[39m\u001b[38;5;124m\"\u001b[39m\u001b[38;5;124mflag\u001b[39m\u001b[38;5;124m\"\u001b[39m, rawPredictionCol\u001b[38;5;241m=\u001b[39m\u001b[38;5;124m\"\u001b[39m\u001b[38;5;124mrawPrediction\u001b[39m\u001b[38;5;124m\"\u001b[39m, metricName\u001b[38;5;241m=\u001b[39m\u001b[38;5;124m\"\u001b[39m\u001b[38;5;124mareaUnderROC\u001b[39m\u001b[38;5;124m\"\u001b[39m)\n",
            "File \u001b[1;32mc:\\Users\\User\\AppData\\Local\\Programs\\Python\\Python312\\Lib\\site-packages\\pyspark\\ml\\base.py:205\u001b[0m, in \u001b[0;36mEstimator.fit\u001b[1;34m(self, dataset, params)\u001b[0m\n\u001b[0;32m    203\u001b[0m         \u001b[38;5;28;01mreturn\u001b[39;00m \u001b[38;5;28mself\u001b[39m\u001b[38;5;241m.\u001b[39mcopy(params)\u001b[38;5;241m.\u001b[39m_fit(dataset)\n\u001b[0;32m    204\u001b[0m     \u001b[38;5;28;01melse\u001b[39;00m:\n\u001b[1;32m--> 205\u001b[0m         \u001b[38;5;28;01mreturn\u001b[39;00m \u001b[38;5;28;43mself\u001b[39;49m\u001b[38;5;241;43m.\u001b[39;49m\u001b[43m_fit\u001b[49m\u001b[43m(\u001b[49m\u001b[43mdataset\u001b[49m\u001b[43m)\u001b[49m\n\u001b[0;32m    206\u001b[0m \u001b[38;5;28;01melse\u001b[39;00m:\n\u001b[0;32m    207\u001b[0m     \u001b[38;5;28;01mraise\u001b[39;00m \u001b[38;5;167;01mTypeError\u001b[39;00m(\n\u001b[0;32m    208\u001b[0m         \u001b[38;5;124m\"\u001b[39m\u001b[38;5;124mParams must be either a param map or a list/tuple of param maps, \u001b[39m\u001b[38;5;124m\"\u001b[39m\n\u001b[0;32m    209\u001b[0m         \u001b[38;5;124m\"\u001b[39m\u001b[38;5;124mbut got \u001b[39m\u001b[38;5;132;01m%s\u001b[39;00m\u001b[38;5;124m.\u001b[39m\u001b[38;5;124m\"\u001b[39m \u001b[38;5;241m%\u001b[39m \u001b[38;5;28mtype\u001b[39m(params)\n\u001b[0;32m    210\u001b[0m     )\n",
            "File \u001b[1;32mc:\\Users\\User\\AppData\\Local\\Programs\\Python\\Python312\\Lib\\site-packages\\pyspark\\ml\\wrapper.py:381\u001b[0m, in \u001b[0;36mJavaEstimator._fit\u001b[1;34m(self, dataset)\u001b[0m\n\u001b[0;32m    380\u001b[0m \u001b[38;5;28;01mdef\u001b[39;00m \u001b[38;5;21m_fit\u001b[39m(\u001b[38;5;28mself\u001b[39m, dataset: DataFrame) \u001b[38;5;241m-\u001b[39m\u001b[38;5;241m>\u001b[39m JM:\n\u001b[1;32m--> 381\u001b[0m     java_model \u001b[38;5;241m=\u001b[39m \u001b[38;5;28;43mself\u001b[39;49m\u001b[38;5;241;43m.\u001b[39;49m\u001b[43m_fit_java\u001b[49m\u001b[43m(\u001b[49m\u001b[43mdataset\u001b[49m\u001b[43m)\u001b[49m\n\u001b[0;32m    382\u001b[0m     model \u001b[38;5;241m=\u001b[39m \u001b[38;5;28mself\u001b[39m\u001b[38;5;241m.\u001b[39m_create_model(java_model)\n\u001b[0;32m    383\u001b[0m     \u001b[38;5;28;01mreturn\u001b[39;00m \u001b[38;5;28mself\u001b[39m\u001b[38;5;241m.\u001b[39m_copyValues(model)\n",
            "File \u001b[1;32mc:\\Users\\User\\AppData\\Local\\Programs\\Python\\Python312\\Lib\\site-packages\\pyspark\\ml\\wrapper.py:378\u001b[0m, in \u001b[0;36mJavaEstimator._fit_java\u001b[1;34m(self, dataset)\u001b[0m\n\u001b[0;32m    375\u001b[0m \u001b[38;5;28;01massert\u001b[39;00m \u001b[38;5;28mself\u001b[39m\u001b[38;5;241m.\u001b[39m_java_obj \u001b[38;5;129;01mis\u001b[39;00m \u001b[38;5;129;01mnot\u001b[39;00m \u001b[38;5;28;01mNone\u001b[39;00m\n\u001b[0;32m    377\u001b[0m \u001b[38;5;28mself\u001b[39m\u001b[38;5;241m.\u001b[39m_transfer_params_to_java()\n\u001b[1;32m--> 378\u001b[0m \u001b[38;5;28;01mreturn\u001b[39;00m \u001b[38;5;28;43mself\u001b[39;49m\u001b[38;5;241;43m.\u001b[39;49m\u001b[43m_java_obj\u001b[49m\u001b[38;5;241;43m.\u001b[39;49m\u001b[43mfit\u001b[49m\u001b[43m(\u001b[49m\u001b[43mdataset\u001b[49m\u001b[38;5;241;43m.\u001b[39;49m\u001b[43m_jdf\u001b[49m\u001b[43m)\u001b[49m\n",
            "File \u001b[1;32mc:\\Users\\User\\AppData\\Local\\Programs\\Python\\Python312\\Lib\\site-packages\\py4j\\java_gateway.py:1321\u001b[0m, in \u001b[0;36mJavaMember.__call__\u001b[1;34m(self, *args)\u001b[0m\n\u001b[0;32m   1314\u001b[0m args_command, temp_args \u001b[38;5;241m=\u001b[39m \u001b[38;5;28mself\u001b[39m\u001b[38;5;241m.\u001b[39m_build_args(\u001b[38;5;241m*\u001b[39margs)\n\u001b[0;32m   1316\u001b[0m command \u001b[38;5;241m=\u001b[39m proto\u001b[38;5;241m.\u001b[39mCALL_COMMAND_NAME \u001b[38;5;241m+\u001b[39m\\\n\u001b[0;32m   1317\u001b[0m     \u001b[38;5;28mself\u001b[39m\u001b[38;5;241m.\u001b[39mcommand_header \u001b[38;5;241m+\u001b[39m\\\n\u001b[0;32m   1318\u001b[0m     args_command \u001b[38;5;241m+\u001b[39m\\\n\u001b[0;32m   1319\u001b[0m     proto\u001b[38;5;241m.\u001b[39mEND_COMMAND_PART\n\u001b[1;32m-> 1321\u001b[0m answer \u001b[38;5;241m=\u001b[39m \u001b[38;5;28;43mself\u001b[39;49m\u001b[38;5;241;43m.\u001b[39;49m\u001b[43mgateway_client\u001b[49m\u001b[38;5;241;43m.\u001b[39;49m\u001b[43msend_command\u001b[49m\u001b[43m(\u001b[49m\u001b[43mcommand\u001b[49m\u001b[43m)\u001b[49m\n\u001b[0;32m   1322\u001b[0m return_value \u001b[38;5;241m=\u001b[39m get_return_value(\n\u001b[0;32m   1323\u001b[0m     answer, \u001b[38;5;28mself\u001b[39m\u001b[38;5;241m.\u001b[39mgateway_client, \u001b[38;5;28mself\u001b[39m\u001b[38;5;241m.\u001b[39mtarget_id, \u001b[38;5;28mself\u001b[39m\u001b[38;5;241m.\u001b[39mname)\n\u001b[0;32m   1325\u001b[0m \u001b[38;5;28;01mfor\u001b[39;00m temp_arg \u001b[38;5;129;01min\u001b[39;00m temp_args:\n",
            "File \u001b[1;32mc:\\Users\\User\\AppData\\Local\\Programs\\Python\\Python312\\Lib\\site-packages\\py4j\\java_gateway.py:1038\u001b[0m, in \u001b[0;36mGatewayClient.send_command\u001b[1;34m(self, command, retry, binary)\u001b[0m\n\u001b[0;32m   1036\u001b[0m connection \u001b[38;5;241m=\u001b[39m \u001b[38;5;28mself\u001b[39m\u001b[38;5;241m.\u001b[39m_get_connection()\n\u001b[0;32m   1037\u001b[0m \u001b[38;5;28;01mtry\u001b[39;00m:\n\u001b[1;32m-> 1038\u001b[0m     response \u001b[38;5;241m=\u001b[39m \u001b[43mconnection\u001b[49m\u001b[38;5;241;43m.\u001b[39;49m\u001b[43msend_command\u001b[49m\u001b[43m(\u001b[49m\u001b[43mcommand\u001b[49m\u001b[43m)\u001b[49m\n\u001b[0;32m   1039\u001b[0m     \u001b[38;5;28;01mif\u001b[39;00m binary:\n\u001b[0;32m   1040\u001b[0m         \u001b[38;5;28;01mreturn\u001b[39;00m response, \u001b[38;5;28mself\u001b[39m\u001b[38;5;241m.\u001b[39m_create_connection_guard(connection)\n",
            "File \u001b[1;32mc:\\Users\\User\\AppData\\Local\\Programs\\Python\\Python312\\Lib\\site-packages\\py4j\\clientserver.py:511\u001b[0m, in \u001b[0;36mClientServerConnection.send_command\u001b[1;34m(self, command)\u001b[0m\n\u001b[0;32m    509\u001b[0m \u001b[38;5;28;01mtry\u001b[39;00m:\n\u001b[0;32m    510\u001b[0m     \u001b[38;5;28;01mwhile\u001b[39;00m \u001b[38;5;28;01mTrue\u001b[39;00m:\n\u001b[1;32m--> 511\u001b[0m         answer \u001b[38;5;241m=\u001b[39m smart_decode(\u001b[38;5;28;43mself\u001b[39;49m\u001b[38;5;241;43m.\u001b[39;49m\u001b[43mstream\u001b[49m\u001b[38;5;241;43m.\u001b[39;49m\u001b[43mreadline\u001b[49m\u001b[43m(\u001b[49m\u001b[43m)\u001b[49m[:\u001b[38;5;241m-\u001b[39m\u001b[38;5;241m1\u001b[39m])\n\u001b[0;32m    512\u001b[0m         logger\u001b[38;5;241m.\u001b[39mdebug(\u001b[38;5;124m\"\u001b[39m\u001b[38;5;124mAnswer received: \u001b[39m\u001b[38;5;132;01m{0}\u001b[39;00m\u001b[38;5;124m\"\u001b[39m\u001b[38;5;241m.\u001b[39mformat(answer))\n\u001b[0;32m    513\u001b[0m         \u001b[38;5;66;03m# Happens when a the other end is dead. There might be an empty\u001b[39;00m\n\u001b[0;32m    514\u001b[0m         \u001b[38;5;66;03m# answer before the socket raises an error.\u001b[39;00m\n",
            "File \u001b[1;32mc:\\Users\\User\\AppData\\Local\\Programs\\Python\\Python312\\Lib\\socket.py:707\u001b[0m, in \u001b[0;36mSocketIO.readinto\u001b[1;34m(self, b)\u001b[0m\n\u001b[0;32m    705\u001b[0m \u001b[38;5;28;01mwhile\u001b[39;00m \u001b[38;5;28;01mTrue\u001b[39;00m:\n\u001b[0;32m    706\u001b[0m     \u001b[38;5;28;01mtry\u001b[39;00m:\n\u001b[1;32m--> 707\u001b[0m         \u001b[38;5;28;01mreturn\u001b[39;00m \u001b[38;5;28;43mself\u001b[39;49m\u001b[38;5;241;43m.\u001b[39;49m\u001b[43m_sock\u001b[49m\u001b[38;5;241;43m.\u001b[39;49m\u001b[43mrecv_into\u001b[49m\u001b[43m(\u001b[49m\u001b[43mb\u001b[49m\u001b[43m)\u001b[49m\n\u001b[0;32m    708\u001b[0m     \u001b[38;5;28;01mexcept\u001b[39;00m timeout:\n\u001b[0;32m    709\u001b[0m         \u001b[38;5;28mself\u001b[39m\u001b[38;5;241m.\u001b[39m_timeout_occurred \u001b[38;5;241m=\u001b[39m \u001b[38;5;28;01mTrue\u001b[39;00m\n",
            "\u001b[1;31mKeyboardInterrupt\u001b[0m: "
          ]
        }
      ],
      "source": [
        "#Defining MLP classifier\n",
        "layers_list = []\n",
        "for i in range(50, 200, 5) : \n",
        "    for j in range(5, 200, 5) :\n",
        "        layer = [len(feature_columns), i, j, 2]\n",
        "        layers_list.append(layer)\n",
        "\n",
        "def train_and_evaluate(layers) : \n",
        "    mlp = MultilayerPerceptronClassifier(layers = layers, seed = 1, labelCol = \"flag\", featuresCol = \"features\")\n",
        "\n",
        "    mlp_model = mlp.fit(train_data_assembled)\n",
        "\n",
        "    # Model evaluator\n",
        "    evaluator = BinaryClassificationEvaluator(labelCol=\"flag\", rawPredictionCol=\"rawPrediction\", metricName=\"areaUnderROC\")\n",
        "\n",
        "    # ROC AUC on the training data\n",
        "    train_predictions = mlp_model.transform(train_data_assembled)\n",
        "    train_auc = evaluator.evaluate(train_predictions)\n",
        "\n",
        "    # ROC AUC on the test data\n",
        "    test_predictions = mlp_model.transform(test_data_assembled)\n",
        "    test_auc = evaluator.evaluate(test_predictions)\n",
        "\n",
        "    return train_auc, test_auc\n",
        "\n",
        "best_layers = None\n",
        "best_train_auc = 0\n",
        "best_test_auc = 0\n",
        "best_auc_diff = float('inf')\n",
        "\n",
        "for l in layers_list : \n",
        "    train_auc, test_auc = train_and_evaluate(l)\n",
        "    auc_diff = abs(train_auc - test_auc)\n",
        "\n",
        "    print(f\"Layers: {l} - Train AUC: {train_auc} - Test AUC: {test_auc} - AUC Diff: {auc_diff}\")\n",
        "\n",
        "    if (train_auc + test_auc) / 2 > (best_train_auc + best_test_auc) / 2 and auc_diff < best_auc_diff:\n",
        "        best_layers = l\n",
        "        best_train_auc = train_auc\n",
        "        best_test_auc = test_auc\n",
        "        best_auc_diff = auc_diff\n",
        "\n",
        "print(f\"\\nBest configuration - Layers: {best_layers} - Train AUC: {best_train_auc} - Test AUC: {best_test_auc} - AUC Diff: {best_auc_diff}\")"
      ]
    },
    {
      "cell_type": "code",
      "execution_count": null,
      "metadata": {
        "id": "yvz5hcKM8iOS"
      },
      "outputs": [],
      "source": []
    }
  ],
  "metadata": {
    "colab": {
      "provenance": []
    },
    "kernelspec": {
      "display_name": "Python 3",
      "name": "python3"
    },
    "language_info": {
      "codemirror_mode": {
        "name": "ipython",
        "version": 3
      },
      "file_extension": ".py",
      "mimetype": "text/x-python",
      "name": "python",
      "nbconvert_exporter": "python",
      "pygments_lexer": "ipython3",
      "version": "3.12.1"
    }
  },
  "nbformat": 4,
  "nbformat_minor": 0
}
